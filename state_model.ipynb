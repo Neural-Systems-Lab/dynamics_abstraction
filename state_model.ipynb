{
 "cells": [
  {
   "cell_type": "code",
   "execution_count": null,
   "metadata": {},
   "outputs": [],
   "source": [
    "import torch\n",
    "import torch.nn as nn\n",
    "import torch.nn.functional as F\n",
    "\n",
    "\n",
    "class StateHyperNetwork(nn.Module):\n",
    "    def __init__(self):\n",
    "        self.abstract_state = \n",
    "        \n",
    "    def forward(self):\n",
    "        pass\n",
    "    \n",
    "    def inference(self):\n",
    "        pass"
   ]
  }
 ],
 "metadata": {
  "interpreter": {
   "hash": "671ceb38d3812223c7cf783da608b8f163d75cf07974393ffecb757fa1299613"
  },
  "kernelspec": {
   "display_name": "Python 3.8.10 ('cse446')",
   "language": "python",
   "name": "python3"
  },
  "language_info": {
   "name": "python",
   "version": "3.8.10"
  },
  "orig_nbformat": 4
 },
 "nbformat": 4,
 "nbformat_minor": 2
}
