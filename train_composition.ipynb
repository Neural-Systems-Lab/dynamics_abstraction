{
 "cells": [
  {
   "cell_type": "code",
   "execution_count": null,
   "metadata": {},
   "outputs": [
    {
     "ename": "",
     "evalue": "",
     "output_type": "error",
     "traceback": [
      "\u001b[1;31mFailed to start the Kernel 'torch (Python 3.8.16)'. \n",
      "\u001b[1;31mView Jupyter <a href='command:jupyter.viewOutput'>log</a> for further details. Unknown system error -122: Unknown system error -122, open '/mmfs1/home/vsathish/.local/share/jupyter/runtime/kernel-v2-1195884b9QKcCjTlU83.json'"
     ]
    }
   ],
   "source": [
    "import os\n",
    "import sys\n",
    "\n",
    "import numpy as np\n",
    "import matplotlib.pyplot as plt\n",
    "import torch\n",
    "import torch.optim as optim\n",
    "import torch.nn.functional as F\n",
    "\n",
    "from environments.composition import CompositionGrid\n",
    "from models.embedding_model import LearnableEmbedding\n",
    "from models.action_network import LowerPolicyTrainer\n",
    "from environments.pomdp_config import *\n",
    "from models.abstract_state_network import AbstractStateNetwork, AbstractStateDataGenerator"
   ]
  },
  {
   "cell_type": "code",
   "execution_count": null,
   "metadata": {},
   "outputs": [
    {
     "ename": "",
     "evalue": "",
     "output_type": "error",
     "traceback": [
      "\u001b[1;31mFailed to start the Kernel 'torch (Python 3.8.16)'. \n",
      "\u001b[1;31mView Jupyter <a href='command:jupyter.viewOutput'>log</a> for further details. Unknown system error -122: Unknown system error -122, open '/mmfs1/home/vsathish/.local/share/jupyter/runtime/kernel-v2-1195884Xqnt5RZ5WwtA.json'"
     ]
    }
   ],
   "source": [
    "###################\n",
    "# CONSTANTS\n",
    "###################\n",
    "\n",
    "device = torch.device(\"mps\")\n",
    "# Data Generation Constants\n",
    "COMPOSITION_CONFIG = composite_config2\n",
    "BASE_CONFIGS = [c1, c2]\n",
    "NUM_SAMPLES = 100\n",
    "\n",
    "\n",
    "HYPER_EPOCHS = 50\n",
    "BATCH_SIZE = 1\n",
    "POLICY_TIMESTEPS = 20\n",
    "INFERENCE_TIMESTEPS = 12\n",
    "LOWER_STATE_MODEL_PATH = \"../saved_models/state_network/jan_23_run_1_embedding.state\"\n",
    "LOWER_ACTION_MODEL_PATH = \"../saved_models/action_network/jan_23_run_1_action_embedding.state\"\n",
    "HIGHER_STATE_MODEL_PATH = \"../saved_models/state_network/jan_23_run_1_higher_state_\"+COMPOSITION_CONFIG[\"name\"]+\".state\"\n",
    "\n",
    "\n",
    "# Define env\n",
    "env = CompositionGrid(COMPOSITION_CONFIG)\n",
    "env.plot_board(name=\"composition2\")\n"
   ]
  },
  {
   "cell_type": "code",
   "execution_count": null,
   "metadata": {},
   "outputs": [
    {
     "ename": "",
     "evalue": "",
     "output_type": "error",
     "traceback": [
      "\u001b[1;31mFailed to start the Kernel 'torch (Python 3.8.16)'. \n",
      "\u001b[1;31mView Jupyter <a href='command:jupyter.viewOutput'>log</a> for further details. Unknown system error -122: Unknown system error -122, open '/mmfs1/home/vsathish/.local/share/jupyter/runtime/kernel-v2-1195884Xqnt5RZ5WwtA.json'"
     ]
    }
   ],
   "source": [
    "# Define lower state model\n",
    "lower_state_model = LearnableEmbedding(device, BATCH_SIZE, timesteps=INFERENCE_TIMESTEPS).to(device)\n",
    "try:\n",
    "    lower_state_model.load_state_dict(torch.load(LOWER_STATE_MODEL_PATH))\n",
    "    print(\"################## LOAD SUCCESS #################\")\n",
    "except:\n",
    "    print(\"################## NOPE #######################\")\n",
    "\n",
    "# Define lower action model\n",
    "lower_action_model = LowerPolicyTrainer(device, BATCH_SIZE, POLICY_TIMESTEPS).to(device)\n",
    "try:\n",
    "    lower_action_model.load_state_dict(torch.load(LOWER_ACTION_MODEL_PATH))\n",
    "except:\n",
    "    print(\"COULD NOT LOAD ACTION NETWORK\")\n",
    "\n",
    "# Define higher state model\n",
    "higher_state_model = AbstractStateNetwork(4, 16, COMPOSITION_CONFIG[\"num_blocks\"]).to(device)\n",
    "try:\n",
    "    higher_state_model.load_state_dict(torch.load(HIGHER_STATE_MODEL_PATH))\n",
    "except:\n",
    "    print(\"COULD NOT LOAD HIGHER STATE NETWORK\")\n"
   ]
  },
  {
   "cell_type": "code",
   "execution_count": null,
   "metadata": {},
   "outputs": [
    {
     "ename": "",
     "evalue": "",
     "output_type": "error",
     "traceback": [
      "\u001b[1;31mFailed to start the Kernel 'torch (Python 3.8.16)'. \n",
      "\u001b[1;31mView Jupyter <a href='command:jupyter.viewOutput'>log</a> for further details. Unknown system error -122: Unknown system error -122, open '/mmfs1/home/vsathish/.local/share/jupyter/runtime/kernel-v2-1195884Xqnt5RZ5WwtA.json'"
     ]
    }
   ],
   "source": [
    "# Define data generator\n",
    "data_gen = AbstractStateDataGenerator(COMPOSITION_CONFIG, BASE_CONFIGS, lower_state_model, lower_action_model, device)\n",
    "x_train, y_train = data_gen.generate_data(NUM_SAMPLES, env)"
   ]
  },
  {
   "cell_type": "code",
   "execution_count": null,
   "metadata": {},
   "outputs": [
    {
     "ename": "",
     "evalue": "",
     "output_type": "error",
     "traceback": [
      "\u001b[1;31mFailed to start the Kernel 'torch (Python 3.8.16)'. \n",
      "\u001b[1;31mView Jupyter <a href='command:jupyter.viewOutput'>log</a> for further details. Unknown system error -122: Unknown system error -122, open '/mmfs1/home/vsathish/.local/share/jupyter/runtime/kernel-v2-1195884Xqnt5RZ5WwtA.json'"
     ]
    }
   ],
   "source": [
    "print(\"X SHAPE: \", x_train.shape, \"Y SHAPE: \", y_train.shape)"
   ]
  },
  {
   "cell_type": "code",
   "execution_count": null,
   "metadata": {},
   "outputs": [
    {
     "ename": "",
     "evalue": "",
     "output_type": "error",
     "traceback": [
      "\u001b[1;31mFailed to start the Kernel 'torch (Python 3.8.16)'. \n",
      "\u001b[1;31mView Jupyter <a href='command:jupyter.viewOutput'>log</a> for further details. Unknown system error -122: Unknown system error -122, open '/mmfs1/home/vsathish/.local/share/jupyter/runtime/kernel-v2-1195884Xqnt5RZ5WwtA.json'"
     ]
    }
   ],
   "source": [
    "# Define the optimizer\n",
    "optimizer = optim.Adam(higher_state_model.parameters(), lr=0.0001)\n",
    "\n",
    "# Define the loss function\n",
    "loss_fn = F.mse_loss\n",
    "\n",
    "# Define the number of epochs\n",
    "num_epochs = 100\n",
    "\n",
    "# Training loop\n",
    "for epoch in range(num_epochs):\n",
    "    # Set the model to training mode\n",
    "    higher_state_model.train()\n",
    "    \n",
    "    # Reset the optimizer\n",
    "    optimizer.zero_grad()\n",
    "    \n",
    "    # Forward pass\n",
    "    outputs = higher_state_model(x_train)\n",
    "    \n",
    "    # Compute the loss\n",
    "    loss = loss_fn(outputs, y_train)\n",
    "    \n",
    "    # Backward pass\n",
    "    loss.backward()\n",
    "    \n",
    "    # Update the weights\n",
    "    optimizer.step()\n",
    "    \n",
    "    # Print the loss for each epoch\n",
    "    print(f\"Epoch {epoch+1}/{num_epochs}, Loss: {loss.item()}\")\n",
    "    \n",
    "# Save the trained model to HIGHER_STATE_MODEL_PATH\n",
    "torch.save(higher_state_model.state_dict(), HIGHER_STATE_MODEL_PATH)\n"
   ]
  }
 ],
 "metadata": {
  "kernelspec": {
   "display_name": "Python 3.9.6 64-bit",
   "language": "python",
   "name": "python3"
  },
  "language_info": {
   "codemirror_mode": {
    "name": "ipython",
    "version": 3
   },
   "file_extension": ".py",
   "mimetype": "text/x-python",
   "name": "python",
   "nbconvert_exporter": "python",
   "pygments_lexer": "ipython3",
   "version": "3.8.16"
  },
  "orig_nbformat": 4,
  "vscode": {
   "interpreter": {
    "hash": "31f2aee4e71d21fbe5cf8b01ff0e069b9275f58929596ceb00d14d90e3e16cd6"
   }
  }
 },
 "nbformat": 4,
 "nbformat_minor": 2
}
