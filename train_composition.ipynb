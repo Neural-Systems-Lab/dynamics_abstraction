{
 "cells": [
  {
   "cell_type": "code",
   "execution_count": 1,
   "metadata": {},
   "outputs": [],
   "source": [
    "import os\n",
    "import sys\n",
    "\n",
    "import numpy as np\n",
    "import matplotlib.pyplot as plt\n",
    "import torch\n",
    "import torch.optim as optim\n",
    "import torch.nn.functional as F\n",
    "\n",
    "from environments.composition import CompositionGrid\n",
    "from models.embedding_model import LearnableEmbedding\n",
    "from models.action_network import LowerPolicyTrainer\n",
    "from environments.pomdp_config import *\n",
    "from models.abstract_state_network import AbstractStateNetwork, AbstractStateDataGenerator"
   ]
  },
  {
   "cell_type": "code",
   "execution_count": 2,
   "metadata": {},
   "outputs": [
    {
     "name": "stdout",
     "output_type": "stream",
     "text": [
      "5 9\n",
      "5 5 9 5\n",
      "In mapping function :  1 2\n",
      "{(0, 0): [array([1., 0.])], (0, 1): [array([1., 0.])], (0, 2): [array([1., 0.])], (0, 3): [array([1., 0.])], (0, 4): [array([1., 0.]), array([0., 1.])], (1, 0): [array([1., 0.])], (1, 1): [array([1., 0.])], (1, 2): [array([1., 0.])], (1, 3): [array([1., 0.])], (1, 4): [array([1., 0.]), array([0., 1.])], (2, 0): [array([1., 0.])], (2, 1): [array([1., 0.])], (2, 2): [array([1., 0.])], (2, 3): [array([1., 0.])], (2, 4): [array([1., 0.]), array([0., 1.])], (3, 0): [array([1., 0.])], (3, 1): [array([1., 0.])], (3, 2): [array([1., 0.])], (3, 3): [array([1., 0.])], (3, 4): [array([1., 0.]), array([0., 1.])], (4, 0): [array([1., 0.])], (4, 1): [array([1., 0.])], (4, 2): [array([1., 0.])], (4, 3): [array([1., 0.])], (4, 4): [array([1., 0.]), array([0., 1.])], (0, 5): [array([0., 1.])], (0, 6): [array([0., 1.])], (0, 7): [array([0., 1.])], (0, 8): [array([0., 1.])], (1, 5): [array([0., 1.])], (1, 6): [array([0., 1.])], (1, 7): [array([0., 1.])], (1, 8): [array([0., 1.])], (2, 5): [array([0., 1.])], (2, 6): [array([0., 1.])], (2, 7): [array([0., 1.])], (2, 8): [array([0., 1.])], (3, 5): [array([0., 1.])], (3, 6): [array([0., 1.])], (3, 7): [array([0., 1.])], (3, 8): [array([0., 1.])], (4, 5): [array([0., 1.])], (4, 6): [array([0., 1.])], (4, 7): [array([0., 1.])], (4, 8): [array([0., 1.])]}\n"
     ]
    }
   ],
   "source": [
    "###################\n",
    "# CONSTANTS\n",
    "###################\n",
    "\n",
    "device = torch.device(\"mps\")\n",
    "HYPER_EPOCHS = 50\n",
    "BATCH_SIZE = 1\n",
    "MAX_TIMESTEPS = 20\n",
    "LOWER_STATE_MODEL_PATH = \"/Users/vsathish/Documents/Quals/saved_models/pomdp/oct_25_run_1_embedding.state\"\n",
    "LOWER_ACTION_MODEL_PATH = \"/Users/vsathish/Documents/Quals/saved_models/action_network/dec_6_run_1_embedding.state\"\n",
    "HIGHER_STATE_MODEL_PATH = \"/Users/vsathish/Documents/Quals/saved_models/pomdp/oct_25_run_1_embedding.state\"\n",
    "\n",
    "# Data Generation Constants\n",
    "COMPOSITION_CONFIG = composite_config1\n",
    "BASE_CONFIGS = [c1, c2]\n",
    "NUM_SAMPLES = 1000\n",
    "\n",
    "# Define env\n",
    "env = CompositionGrid(COMPOSITION_CONFIG)\n",
    "env.plot_board()\n"
   ]
  },
  {
   "cell_type": "code",
   "execution_count": 3,
   "metadata": {},
   "outputs": [
    {
     "name": "stdout",
     "output_type": "stream",
     "text": [
      "################## LOAD SUCCESS #################\n",
      "COULD NOT LOAD HIGHER STATE NETWORK\n"
     ]
    }
   ],
   "source": [
    "# Define lower state model\n",
    "lower_state_model = LearnableEmbedding(device, BATCH_SIZE, timesteps=8).to(device)\n",
    "try:\n",
    "    lower_state_model.load_state_dict(torch.load(LOWER_STATE_MODEL_PATH))\n",
    "    print(\"################## LOAD SUCCESS #################\")\n",
    "except:\n",
    "    print(\"################## NOPE #######################\")\n",
    "\n",
    "# Define lower action model\n",
    "lower_action_model = LowerPolicyTrainer(device, BATCH_SIZE, MAX_TIMESTEPS).to(device)\n",
    "try:\n",
    "    lower_action_model.load_state_dict(torch.load(LOWER_ACTION_MODEL_PATH))\n",
    "except:\n",
    "    print(\"COULD NOT LOAD ACTION NETWORK\")\n",
    "\n",
    "# Define higher state model\n",
    "higher_state_model = AbstractStateNetwork(9, COMPOSITION_CONFIG[\"num_blocks\"]).to(device)\n",
    "try:\n",
    "    higher_state_model.load_state_dict(torch.load(HIGHER_STATE_MODEL_PATH))\n",
    "except:\n",
    "    print(\"COULD NOT LOAD HIGHER STATE NETWORK\")\n"
   ]
  },
  {
   "cell_type": "code",
   "execution_count": 4,
   "metadata": {},
   "outputs": [
    {
     "name": "stdout",
     "output_type": "stream",
     "text": [
      "5 9\n",
      "5 5 9 5\n",
      "In mapping function :  1 2\n",
      "{(0, 0): [array([1., 0.])], (0, 1): [array([1., 0.])], (0, 2): [array([1., 0.])], (0, 3): [array([1., 0.])], (0, 4): [array([1., 0.]), array([0., 1.])], (1, 0): [array([1., 0.])], (1, 1): [array([1., 0.])], (1, 2): [array([1., 0.])], (1, 3): [array([1., 0.])], (1, 4): [array([1., 0.]), array([0., 1.])], (2, 0): [array([1., 0.])], (2, 1): [array([1., 0.])], (2, 2): [array([1., 0.])], (2, 3): [array([1., 0.])], (2, 4): [array([1., 0.]), array([0., 1.])], (3, 0): [array([1., 0.])], (3, 1): [array([1., 0.])], (3, 2): [array([1., 0.])], (3, 3): [array([1., 0.])], (3, 4): [array([1., 0.]), array([0., 1.])], (4, 0): [array([1., 0.])], (4, 1): [array([1., 0.])], (4, 2): [array([1., 0.])], (4, 3): [array([1., 0.])], (4, 4): [array([1., 0.]), array([0., 1.])], (0, 5): [array([0., 1.])], (0, 6): [array([0., 1.])], (0, 7): [array([0., 1.])], (0, 8): [array([0., 1.])], (1, 5): [array([0., 1.])], (1, 6): [array([0., 1.])], (1, 7): [array([0., 1.])], (1, 8): [array([0., 1.])], (2, 5): [array([0., 1.])], (2, 6): [array([0., 1.])], (2, 7): [array([0., 1.])], (2, 8): [array([0., 1.])], (3, 5): [array([0., 1.])], (3, 6): [array([0., 1.])], (3, 7): [array([0., 1.])], (3, 8): [array([0., 1.])], (4, 5): [array([0., 1.])], (4, 6): [array([0., 1.])], (4, 7): [array([0., 1.])], (4, 8): [array([0., 1.])]}\n",
      "[2. 2. 2. 0. 0. 0. 2. 2. 2.]\n",
      "init state :  (2, 2)\n",
      "torch.Size([8, 1, 13]) torch.Size([8, 1, 9])\n",
      "Concatenated distances :  [1.06854861 1.21208538]\n",
      "Final state :  (2, 2)\n",
      "Unique token :  [array([1., 0.])]\n"
     ]
    },
    {
     "ename": "ValueError",
     "evalue": "all the input arrays must have same number of dimensions, but the array at index 0 has 1 dimension(s) and the array at index 1 has 2 dimension(s)",
     "output_type": "error",
     "traceback": [
      "\u001b[0;31m---------------------------------------------------------------------------\u001b[0m",
      "\u001b[0;31mValueError\u001b[0m                                Traceback (most recent call last)",
      "Cell \u001b[0;32mIn[4], line 3\u001b[0m\n\u001b[1;32m      1\u001b[0m \u001b[38;5;66;03m# Define data generator\u001b[39;00m\n\u001b[1;32m      2\u001b[0m data_gen \u001b[38;5;241m=\u001b[39m AbstractStateDataGenerator(COMPOSITION_CONFIG, BASE_CONFIGS, lower_state_model, lower_action_model, device)\n\u001b[0;32m----> 3\u001b[0m x_train, y_train \u001b[38;5;241m=\u001b[39m \u001b[43mdata_gen\u001b[49m\u001b[38;5;241;43m.\u001b[39;49m\u001b[43mgenerate_data\u001b[49m\u001b[43m(\u001b[49m\u001b[43mNUM_SAMPLES\u001b[49m\u001b[43m)\u001b[49m\n",
      "File \u001b[0;32m~/Documents/Quals/dynamics_abstraction/models/abstract_state_network.py:53\u001b[0m, in \u001b[0;36mAbstractStateDataGenerator.generate_data\u001b[0;34m(self, num_samples)\u001b[0m\n\u001b[1;32m     51\u001b[0m \u001b[38;5;28;01mfor\u001b[39;00m sample \u001b[38;5;129;01min\u001b[39;00m \u001b[38;5;28mrange\u001b[39m(num_samples):\n\u001b[1;32m     52\u001b[0m     \u001b[38;5;28mself\u001b[39m\u001b[38;5;241m.\u001b[39menv\u001b[38;5;241m.\u001b[39mreset()\n\u001b[0;32m---> 53\u001b[0m     current_state, higher_index \u001b[38;5;241m=\u001b[39m \u001b[38;5;28;43mself\u001b[39;49m\u001b[38;5;241;43m.\u001b[39;49m\u001b[43mget_abstract_state\u001b[49m\u001b[43m(\u001b[49m\u001b[43m)\u001b[49m\n\u001b[1;32m     54\u001b[0m     random_action \u001b[38;5;241m=\u001b[39m \u001b[38;5;28mself\u001b[39m\u001b[38;5;241m.\u001b[39mget_abstract_action(higher_index)\n\u001b[1;32m     55\u001b[0m     next_state \u001b[38;5;241m=\u001b[39m \u001b[38;5;28mself\u001b[39m\u001b[38;5;241m.\u001b[39mstep(random_action)\n",
      "File \u001b[0;32m~/Documents/Quals/dynamics_abstraction/models/abstract_state_network.py:106\u001b[0m, in \u001b[0;36mAbstractStateDataGenerator.get_abstract_state\u001b[0;34m(self)\u001b[0m\n\u001b[1;32m    104\u001b[0m unique_token \u001b[38;5;241m=\u001b[39m \u001b[38;5;28mself\u001b[39m\u001b[38;5;241m.\u001b[39menv\u001b[38;5;241m.\u001b[39mget_higher_token()\n\u001b[1;32m    105\u001b[0m \u001b[38;5;28mprint\u001b[39m(\u001b[38;5;124m\"\u001b[39m\u001b[38;5;124mUnique token : \u001b[39m\u001b[38;5;124m\"\u001b[39m, unique_token)\n\u001b[0;32m--> 106\u001b[0m higher_state \u001b[38;5;241m=\u001b[39m \u001b[43mnp\u001b[49m\u001b[38;5;241;43m.\u001b[39;49m\u001b[43mconcatenate\u001b[49m\u001b[43m(\u001b[49m\u001b[43m(\u001b[49m\u001b[43mhigher_state\u001b[49m\u001b[43m,\u001b[49m\u001b[43m \u001b[49m\u001b[43munique_token\u001b[49m\u001b[43m)\u001b[49m\u001b[43m,\u001b[49m\u001b[43m \u001b[49m\u001b[43maxis\u001b[49m\u001b[38;5;241;43m=\u001b[39;49m\u001b[38;5;241;43m0\u001b[39;49m\u001b[43m)\u001b[49m\n\u001b[1;32m    107\u001b[0m \u001b[38;5;28mprint\u001b[39m(\u001b[38;5;124m\"\u001b[39m\u001b[38;5;124mhigher state : \u001b[39m\u001b[38;5;124m\"\u001b[39m, higher_state)\n\u001b[1;32m    108\u001b[0m \u001b[38;5;28;01mreturn\u001b[39;00m torch\u001b[38;5;241m.\u001b[39mfrom_numpy(higher_state)\u001b[38;5;241m.\u001b[39mto(\u001b[38;5;28mself\u001b[39m\u001b[38;5;241m.\u001b[39mdevice, dtype\u001b[38;5;241m=\u001b[39mtorch\u001b[38;5;241m.\u001b[39mfloat32), center_index\n",
      "\u001b[0;31mValueError\u001b[0m: all the input arrays must have same number of dimensions, but the array at index 0 has 1 dimension(s) and the array at index 1 has 2 dimension(s)"
     ]
    }
   ],
   "source": [
    "# Define data generator\n",
    "data_gen = AbstractStateDataGenerator(COMPOSITION_CONFIG, BASE_CONFIGS, lower_state_model, lower_action_model, device)\n",
    "x_train, y_train = data_gen.generate_data(NUM_SAMPLES)"
   ]
  }
 ],
 "metadata": {
  "kernelspec": {
   "display_name": "Python 3.9.6 64-bit",
   "language": "python",
   "name": "python3"
  },
  "language_info": {
   "codemirror_mode": {
    "name": "ipython",
    "version": 3
   },
   "file_extension": ".py",
   "mimetype": "text/x-python",
   "name": "python",
   "nbconvert_exporter": "python",
   "pygments_lexer": "ipython3",
   "version": "3.9.6"
  },
  "orig_nbformat": 4,
  "vscode": {
   "interpreter": {
    "hash": "31f2aee4e71d21fbe5cf8b01ff0e069b9275f58929596ceb00d14d90e3e16cd6"
   }
  }
 },
 "nbformat": 4,
 "nbformat_minor": 2
}
